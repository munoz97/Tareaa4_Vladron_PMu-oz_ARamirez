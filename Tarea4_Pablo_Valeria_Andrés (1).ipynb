{
 "cells": [
  {
   "cell_type": "markdown",
   "metadata": {},
   "source": [
    "<img style=\"float: left; margin: 30px 15px 15px 15px;\" src=\"https://pngimage.net/wp-content/uploads/2018/06/logo-iteso-png-5.png\" width=\"300\" height=\"500\" /> \n",
    "    \n",
    "    \n",
    "### <font color='navy'> Simulación de procesos financieros. \n",
    "\n",
    "**Nombres:** \n",
    "    Pablo Muñoz, Andrés Ramírez Villanueva\n",
    "    \n",
    "    #############.\n",
    "\n",
    "**Fecha:** 11 de junio del 2021.\n",
    "\n",
    "**Expediente** : If719963, If726061\n",
    "    \n",
    "    \n",
    "**Profesor:** Oscar David Jaramillo Zuluaga.\n",
    "    \n",
    "**Link Github**: https://github.com/munoz97/Tarea4_Pablo_Valeria_Andres\n",
    "\n",
    "# Tarea 4: Clase 5"
   ]
  },
  {
   "cell_type": "markdown",
   "metadata": {},
   "source": [
    "# Tarea\n",
    "\n",
    "## Ejercicio 1\n",
    "Como ejemplo simple de una simulación de Monte Carlo, considere calcular la probabilidad de una suma particular del lanzamiento de tres dados (cada dado tiene valores del uno al seis). Además cada dado tiene las siguientes carácterísticas: el primer dado no está cargado (distribución uniforme todos son equiprobables); el segundo y tercer dado están cargados basados en una distribución binomial con parámetros (`n=5, p=0.5` y `n=5, p=0.2`). Calcule la probabilidad de que la suma resultante sea 7, 14 o 18. "
   ]
  },
  {
   "cell_type": "markdown",
   "metadata": {},
   "source": [
    "**Código de solución estudiante 1 ejercicio 1: Pablo Muñoz**"
   ]
  },
  {
   "cell_type": "code",
   "execution_count": 1,
   "metadata": {},
   "outputs": [
    {
     "name": "stdout",
     "output_type": "stream",
     "text": [
      "La probabilidad de que al tirar los 3 dados el total sea 7, 14 y 18 es de: 0.1251 0.0153 0.0\n"
     ]
    }
   ],
   "source": [
    "# Código de solución estudiante 1\n",
    "# importamos librerías\n",
    "import random\n",
    "import numpy as np\n",
    "import matplotlib.pyplot as plt \n",
    "from functools import reduce\n",
    "import scipy.stats as st\n",
    "\n",
    "\n",
    "N = 10000\n",
    "#np.randomseed(30)\n",
    "'Dado con distribución uniforme'\n",
    "primer_dado= np.random.randint(1,7, size = N)\n",
    "'Generamos las variables binomiales'\n",
    "'Dados cargados con distinta probabilidad'\n",
    "segundo_dado = st.binom(n= 5, p=0.5, loc=1).rvs(size = N)\n",
    "tercer_dado =  st.binom(n= 5, p=0.2, loc=1).rvs(size = N)\n",
    "\n",
    "'suma de las probabilidades'\n",
    "suma = np.array(primer_dado) + np.array(segundo_dado) + np.array(tercer_dado)\n",
    "sumar_7 = (sum([(suma == 7).sum()]))/N \n",
    "sumar_14 = (sum([(suma == 14).sum()]))/N\n",
    "sumar_18 = (sum([(suma == 18).sum()]))/N\n",
    "\n",
    "\n",
    "print(\"La probabilidad de que al tirar los 3 dados el total sea 7, 14 y 18 es de:\",sumar_7 , sumar_14,sumar_18)"
   ]
  },
  {
   "cell_type": "markdown",
   "metadata": {},
   "source": [
    "Código de solución estudiante 2"
   ]
  },
  {
   "cell_type": "code",
   "execution_count": 3,
   "metadata": {},
   "outputs": [],
   "source": [
    "# Código de solución estudiante 2"
   ]
  },
  {
   "cell_type": "markdown",
   "metadata": {},
   "source": [
    "Código de solución estudiante 3 - Andrés Ramírez Villanueva"
   ]
  },
  {
   "cell_type": "code",
   "execution_count": 2,
   "metadata": {},
   "outputs": [],
   "source": [
    "# Código de solución estudiante 3"
   ]
  },
  {
   "cell_type": "markdown",
   "metadata": {},
   "source": [
    "# Ejercicio 2"
   ]
  },
  {
   "cell_type": "markdown",
   "metadata": {},
   "source": [
    "# Aplicación- Cafetería Central\n",
    "\n",
    "Premisas para la simulación:\n",
    "- Negocio de alimentos que vende bebidas y alimentos.\n",
    "- Negocio dentro del ITESO.\n",
    "- Negocio en cafetería central.\n",
    "- Tipo de clientes (hombres y mujeres).\n",
    "- Rentabilidad del 60%.\n",
    "\n",
    "## Objetivo\n",
    "Realizar una simulación estimado el tiempo medio que se tardaran los clientes en ser atendidos entre el horario de 6:30 a 1 pm. Además saber el consumo. \n",
    "**Analizar supuestos y limitantes**"
   ]
  },
  {
   "cell_type": "markdown",
   "metadata": {},
   "source": [
    "## Supuestos en simulación\n",
    "Clasificación de clientes: \n",
    "- Mujer  = 1 $\\longrightarrow$ aleatorio < 0.5\n",
    "- Hombre = 0 $\\longrightarrow$ aleatorio $\\geq$ 0.5.\n",
    "\n",
    "Condiciones iniciales:\n",
    "- Todas las distrubuciones de probabilidad se supondrán uniformes.\n",
    "- Tiempo de simulación: 6:30 am - 1:30pm $\\longrightarrow$ T = 7 horas = 25200 seg.\n",
    "- Tiempo de llegada hasta ser atendido: Min=5seg, Max=30seg.\n",
    "- Tiempo que tardan los clientes en ser atendidos:\n",
    "    - Mujer: Min = 1 min= 60seg, Max = 5 min = 300 seg\n",
    "    - Hombre: Min = 40 seg, Max = 2 min= 120 seg\n",
    "- Consumo según el tipo de cliente:\n",
    "    - Mujer: Min = 30 pesos, Max = 100 pesos\n",
    "    - Hombre: Min = 20 pesos, Max = 80 pesos\n",
    "\n",
    "Responder las siguientes preguntas basados en los datos del problema:\n",
    "1. ¿Cuáles fueron los gastos de los hombres y las mujeres en 5 días de trabajo?.\n",
    "2. ¿Cuál fue el consumo promedio de los hombres y mujeres?\n",
    "3. ¿Cuál fue el número de personas atendidas por día?\n",
    "4. ¿Cuál fue el tiempo de atención promedio?\n",
    "5. ¿Cuánto fue la ganancia promedio de la cafetería en 5 días de trabajo y su respectiva rentabilidad?"
   ]
  },
  {
   "cell_type": "markdown",
   "metadata": {},
   "source": [
    "**Código de solución estudiante 1 ejercicio 2: Pablo Muñoz**"
   ]
  },
  {
   "cell_type": "code",
   "execution_count": 2,
   "metadata": {},
   "outputs": [],
   "source": [
    "#Solución Pablo Muñoz\n",
    "# Datos del problema\n",
    "'Días'\n",
    "d= 5\n",
    "'Tiempo en segundos'\n",
    "T = 25200\n",
    "espera_minima = 5; espera_maxima = 30\n",
    "#Datos mujeres\n",
    "espera_muj_minima = 60; espera_muj_maxima = 300\n",
    "gasto_muj_minimo = 30; gasto_muj_maximo = 100\n",
    "# Datos hombres\n",
    "espera_hom_minima = 40; espera_hom_maxima = 120\n",
    "gasto_hom_minimo = 20; gasto_hom_maximo = 80\n",
    "\n",
    "'Tiempos máximos y mínimos dependiendo del sexo'\n",
    "total_max_hom = (espera_hom_maxima + espera_maxima)\n",
    "total_max_muj= (espera_muj_maxima + espera_maxima)\n",
    "\n",
    "total_min_hom = (espera_hom_minima + espera_minima)\n",
    "total_min_muj = (espera_muj_minima + espera_minima)"
   ]
  },
  {
   "cell_type": "code",
   "execution_count": 3,
   "metadata": {},
   "outputs": [],
   "source": [
    "'El tiempo promedio de un hombre es:'\n",
    "tiempo_promedio_hombre = np.mean([random.uniform(total_min_hom, total_max_hom) for i in range(10000)])\n",
    "'El tiempo promedio de una mujer es:'\n",
    "tiempo_promedio_mujer = np.mean([random.uniform(total_min_muj , total_max_muj ) for i in range(10000)])"
   ]
  },
  {
   "cell_type": "code",
   "execution_count": 4,
   "metadata": {},
   "outputs": [
    {
     "name": "stdout",
     "output_type": "stream",
     "text": [
      "Promedio del tiempo total para hombres:  97.17391101170571\n",
      "Promedio del tiempo total para mujeres:  196.72276372206673\n"
     ]
    }
   ],
   "source": [
    "print('Promedio del tiempo total para hombres: ',tiempo_promedio_hombre)\n",
    "print('Promedio del tiempo total para mujeres: ',tiempo_promedio_mujer)"
   ]
  },
  {
   "cell_type": "code",
   "execution_count": 5,
   "metadata": {},
   "outputs": [
    {
     "name": "stdout",
     "output_type": "stream",
     "text": [
      "El tiempo promedio para un estudiante cualquiera es  146.94833736688622\n"
     ]
    }
   ],
   "source": [
    "tiempo_promedio = .5*tiempo_promedio_hombre + .5*tiempo_promedio_mujer\n",
    "print('El tiempo promedio para un estudiante cualquiera es ',tiempo_promedio)"
   ]
  },
  {
   "cell_type": "markdown",
   "metadata": {},
   "source": [
    "Código de solución estudiante 2"
   ]
  },
  {
   "cell_type": "code",
   "execution_count": null,
   "metadata": {},
   "outputs": [],
   "source": []
  },
  {
   "cell_type": "code",
   "execution_count": null,
   "metadata": {},
   "outputs": [],
   "source": []
  },
  {
   "cell_type": "code",
   "execution_count": null,
   "metadata": {},
   "outputs": [],
   "source": []
  },
  {
   "cell_type": "markdown",
   "metadata": {},
   "source": [
    "Código de solución estudiante 3 - Andrés Ramírez Villanueva"
   ]
  },
  {
   "cell_type": "code",
   "execution_count": null,
   "metadata": {},
   "outputs": [],
   "source": []
  },
  {
   "cell_type": "code",
   "execution_count": null,
   "metadata": {},
   "outputs": [],
   "source": []
  },
  {
   "cell_type": "code",
   "execution_count": null,
   "metadata": {},
   "outputs": [],
   "source": []
  }
 ],
 "metadata": {
  "kernelspec": {
   "display_name": "Python 3",
   "language": "python",
   "name": "python3"
  },
  "language_info": {
   "codemirror_mode": {
    "name": "ipython",
    "version": 3
   },
   "file_extension": ".py",
   "mimetype": "text/x-python",
   "name": "python",
   "nbconvert_exporter": "python",
   "pygments_lexer": "ipython3",
   "version": "3.8.3"
  }
 },
 "nbformat": 4,
 "nbformat_minor": 2
}
